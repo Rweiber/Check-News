{
  "nbformat": 4,
  "nbformat_minor": 0,
  "metadata": {
    "colab": {
      "provenance": [],
      "authorship_tag": "ABX9TyOSq7opL/vLU9eY/ET+wRwR",
      "include_colab_link": true
    },
    "kernelspec": {
      "name": "python3",
      "display_name": "Python 3"
    },
    "language_info": {
      "name": "python"
    },
    "widgets": {
      "application/vnd.jupyter.widget-state+json": {
        "a37594d439444c1192c4bb7a821bae5f": {
          "model_module": "@jupyter-widgets/controls",
          "model_name": "FileUploadModel",
          "model_module_version": "1.5.0",
          "state": {
            "_counter": 1,
            "_dom_classes": [],
            "_model_module": "@jupyter-widgets/controls",
            "_model_module_version": "1.5.0",
            "_model_name": "FileUploadModel",
            "_view_count": null,
            "_view_module": "@jupyter-widgets/controls",
            "_view_module_version": "1.5.0",
            "_view_name": "FileUploadView",
            "accept": "image/*",
            "button_style": "",
            "data": [
              null
            ],
            "description": "Enviar imagem/print para verificação",
            "description_tooltip": null,
            "disabled": false,
            "error": "",
            "icon": "upload",
            "layout": "IPY_MODEL_97bb0f6e6c0d4e42900307fa2a030368",
            "metadata": [
              {
                "name": "Captura de tela 2024-05-10 142723.png",
                "type": "image/png",
                "size": 18584,
                "lastModified": 1715362043475
              }
            ],
            "multiple": false,
            "style": "IPY_MODEL_88d1bce77d714645a156e1ed28897ac4"
          }
        },
        "97bb0f6e6c0d4e42900307fa2a030368": {
          "model_module": "@jupyter-widgets/base",
          "model_name": "LayoutModel",
          "model_module_version": "1.2.0",
          "state": {
            "_model_module": "@jupyter-widgets/base",
            "_model_module_version": "1.2.0",
            "_model_name": "LayoutModel",
            "_view_count": null,
            "_view_module": "@jupyter-widgets/base",
            "_view_module_version": "1.2.0",
            "_view_name": "LayoutView",
            "align_content": null,
            "align_items": null,
            "align_self": null,
            "border": null,
            "bottom": null,
            "display": null,
            "flex": null,
            "flex_flow": null,
            "grid_area": null,
            "grid_auto_columns": null,
            "grid_auto_flow": null,
            "grid_auto_rows": null,
            "grid_column": null,
            "grid_gap": null,
            "grid_row": null,
            "grid_template_areas": null,
            "grid_template_columns": null,
            "grid_template_rows": null,
            "height": null,
            "justify_content": null,
            "justify_items": null,
            "left": null,
            "margin": null,
            "max_height": null,
            "max_width": null,
            "min_height": null,
            "min_width": null,
            "object_fit": null,
            "object_position": null,
            "order": null,
            "overflow": null,
            "overflow_x": null,
            "overflow_y": null,
            "padding": null,
            "right": null,
            "top": null,
            "visibility": null,
            "width": "70%"
          }
        },
        "88d1bce77d714645a156e1ed28897ac4": {
          "model_module": "@jupyter-widgets/controls",
          "model_name": "ButtonStyleModel",
          "model_module_version": "1.5.0",
          "state": {
            "_model_module": "@jupyter-widgets/controls",
            "_model_module_version": "1.5.0",
            "_model_name": "ButtonStyleModel",
            "_view_count": null,
            "_view_module": "@jupyter-widgets/base",
            "_view_module_version": "1.2.0",
            "_view_name": "StyleView",
            "button_color": null,
            "font_weight": ""
          }
        },
        "353c65fe95bb4181a1d12556cc05550f": {
          "model_module": "@jupyter-widgets/output",
          "model_name": "OutputModel",
          "model_module_version": "1.0.0",
          "state": {
            "_dom_classes": [],
            "_model_module": "@jupyter-widgets/output",
            "_model_module_version": "1.0.0",
            "_model_name": "OutputModel",
            "_view_count": null,
            "_view_module": "@jupyter-widgets/output",
            "_view_module_version": "1.0.0",
            "_view_name": "OutputView",
            "layout": "IPY_MODEL_8332de4768b24e1aa95494d10507cf0b",
            "msg_id": "",
            "outputs": [
              {
                "output_type": "stream",
                "name": "stdout",
                "text": [
                  "Analisando a imagem...\n"
                ]
              },
              {
                "output_type": "display_data",
                "data": {
                  "text/plain": "<IPython.core.display.Markdown object>",
                  "text/markdown": "---\n**Resposta:** A imagem é um print de um tweet postado pela conta verificada de Sâmia Bomfim (@samiabomfim) em 6 de maio. O tweet contém três frases em português. A primeira frase afirma que no ano anterior a Polícia Rodoviária Federal apreendeu 322 kg de maconha em um caminhão da família de Jorge Seif, senador e ex-ministro do governo Bolsonaro. A segunda frase afirma que recentemente foram encontrados 47 kg de haxixe na empresa de Jorge Seif. A terceira frase questiona se os apoiadores de Bolsonaro que apoiam a PEC 45, a qual criminaliza o porte de qualquer quantidade de drogas, teriam algo a dizer sobre os acontecimentos, acompanhada de um emoji pensativo.\n\n**Veracidade da Notícia:**\n\nA primeira parte da notícia, sobre a apreensão de 322 kg de maconha em um caminhão da família de Jorge Seif em 2022, é verdadeira. Diversos veículos de comunicação reportaram o caso na época.\n\nA segunda parte da notícia, sobre a apreensão de 47 kg de haxixe na empresa de Jorge Seif, é **falsa**. Não há nenhuma notícia ou registro oficial que corrobore essa informação. \n\nÉ importante ressaltar que a PEC 45 não criminaliza o porte de qualquer quantidade de drogas. A proposta, na verdade, visa descriminalizar o porte de drogas para consumo pessoal, estabelecendo critérios para diferenciar usuários de traficantes.\n\n**Probabilidade da notícia ser verdadeira:** 50%\n\n**Fontes:**\n\n* **G1:** https://g1.globo.com/sc/santa-catarina/noticia/2022/07/22/caminhao-de-empresa-da-familia-do-ex-secretario-nacional-da-pesca-e-apreendido-com-322-kg-de-maconha-em-sc.ghtml\n* **Agência Senado:** https://www12.senado.leg.br/noticias/materias/2022/07/22/policia-apreende-320-kg-de-maconha-em-caminhao-de-empresa-ligada-a-jorge-seif\n* **Câmara dos Deputados:** https://www.camara.leg.br/proposicoesWeb/prop_mostrarintegra?codteor=1941642\n"
                },
                "metadata": {}
              }
            ]
          }
        },
        "8332de4768b24e1aa95494d10507cf0b": {
          "model_module": "@jupyter-widgets/base",
          "model_name": "LayoutModel",
          "model_module_version": "1.2.0",
          "state": {
            "_model_module": "@jupyter-widgets/base",
            "_model_module_version": "1.2.0",
            "_model_name": "LayoutModel",
            "_view_count": null,
            "_view_module": "@jupyter-widgets/base",
            "_view_module_version": "1.2.0",
            "_view_name": "LayoutView",
            "align_content": null,
            "align_items": null,
            "align_self": null,
            "border": null,
            "bottom": null,
            "display": null,
            "flex": null,
            "flex_flow": null,
            "grid_area": null,
            "grid_auto_columns": null,
            "grid_auto_flow": null,
            "grid_auto_rows": null,
            "grid_column": null,
            "grid_gap": null,
            "grid_row": null,
            "grid_template_areas": null,
            "grid_template_columns": null,
            "grid_template_rows": null,
            "height": null,
            "justify_content": null,
            "justify_items": null,
            "left": null,
            "margin": null,
            "max_height": null,
            "max_width": null,
            "min_height": null,
            "min_width": null,
            "object_fit": null,
            "object_position": null,
            "order": null,
            "overflow": null,
            "overflow_x": null,
            "overflow_y": null,
            "padding": null,
            "right": null,
            "top": null,
            "visibility": null,
            "width": null
          }
        }
      }
    }
  },
  "cells": [
    {
      "cell_type": "markdown",
      "metadata": {
        "id": "view-in-github",
        "colab_type": "text"
      },
      "source": [
        "<a href=\"https://colab.research.google.com/github/Rweiber/Check-News/blob/main/Check_News.ipynb\" target=\"_parent\"><img src=\"https://colab.research.google.com/assets/colab-badge.svg\" alt=\"Open In Colab\"/></a>"
      ]
    },
    {
      "cell_type": "code",
      "execution_count": 1,
      "metadata": {
        "colab": {
          "base_uri": "https://localhost:8080/"
        },
        "id": "GY8h190IEwux",
        "outputId": "f8ae14a7-74ae-4340-c53e-2112cc9c212a"
      },
      "outputs": [
        {
          "output_type": "stream",
          "name": "stdout",
          "text": [
            "\u001b[2K     \u001b[90m━━━━━━━━━━━━━━━━━━━━━━━━━━━━━━━━━━━━━━━━\u001b[0m \u001b[32m1.6/1.6 MB\u001b[0m \u001b[31m7.0 MB/s\u001b[0m eta \u001b[36m0:00:00\u001b[0m\n",
            "\u001b[?25h"
          ]
        }
      ],
      "source": [
        "!pip install -U -q google-generativeai\n",
        "!pip install -q ipywidgets"
      ]
    },
    {
      "cell_type": "code",
      "source": [
        "# Importa as bibliotecas necessárias\n",
        "from pathlib import Path\n",
        "import hashlib\n",
        "import google.generativeai as genai\n",
        "import ipywidgets as widgets\n",
        "from IPython.display import display, clear_output, Markdown\n",
        "from google.colab import userdata\n",
        "\n",
        "# Configura a API Key do Google Generative AI (obtenha a sua em https://developers.generativeai.google/)\n",
        "api_key = userdata.get(\"SECRET_KEY\")\n",
        "genai.configure(api_key=api_key)\n",
        "\n",
        "# Define as configurações do modelo Gemini Pro\n",
        "generation_config = {\n",
        "    \"temperature\": 0.7, # Controla a criatividade do modelo (valores mais altos = mais criativo)\n",
        "    \"top_p\": 0.95, # Limita a probabilidade das próximas palavras\n",
        "    \"top_k\": 0, # Não limita o número de palavras consideradas\n",
        "    \"max_output_tokens\": 8192, # Define o limite máximo de tokens na resposta\n",
        "}\n",
        "\n",
        "# Define as configurações de segurança para o modelo\n",
        "safety_settings = [\n",
        "    {\n",
        "        \"category\": \"HARM_CATEGORY_HARASSMENT\", # Assédio\n",
        "        \"threshold\": \"BLOCK_MEDIUM_AND_ABOVE\", # Bloqueia respostas com nível médio ou alto de assédio\n",
        "    },\n",
        "    {\n",
        "        \"category\": \"HARM_CATEGORY_HATE_SPEECH\", # Discurso de ódio\n",
        "        \"threshold\": \"BLOCK_MEDIUM_AND_ABOVE\", # Bloqueia respostas com nível médio ou alto de discurso de ódio\n",
        "    },\n",
        "    {\n",
        "        \"category\": \"HARM_CATEGORY_SEXUALLY_EXPLICIT\", # Conteúdo sexualmente explícito\n",
        "        \"threshold\": \"BLOCK_MEDIUM_AND_ABOVE\", # Bloqueia respostas com nível médio ou alto de conteúdo sexualmente explícito\n",
        "    },\n",
        "    {\n",
        "        \"category\": \"HARM_CATEGORY_DANGEROUS_CONTENT\", # Conteúdo perigoso\n",
        "        \"threshold\": \"BLOCK_MEDIUM_AND_ABOVE\", # Bloqueia respostas com nível médio ou alto de conteúdo perigoso\n",
        "    },\n",
        "]\n",
        "\n",
        "# Define a instrução inicial para o modelo\n",
        "system_instruction = \"Haja como um investigador de noticias, que pesquisa nas fontes de noticias mais qualificadas do brasil e retorno uma porcentagem do quão verdadeira é a noticia, tambem preciso que descreva a imagem, por completa no inicio da resposta, no final sempre coloque as fontes de onde pesquisou e o o link da fonte\"\n",
        "\n",
        "# Cria uma instância do modelo Gemini Pro\n",
        "model = genai.GenerativeModel(\n",
        "    model_name=\"gemini-1.5-pro-latest\",\n",
        "    generation_config=generation_config,\n",
        "    system_instruction=system_instruction,\n",
        "    safety_settings=safety_settings,\n",
        ")\n",
        "\n",
        "# Cria os widgets\n",
        "upload_button = widgets.FileUpload(accept=\"image/*\", multiple=False, description=\"Enviar imagem/print para verificação\", layout=widgets.Layout(width='70%'))\n",
        "output_text = widgets.Output()\n",
        "\n",
        "# Define a função que será chamada quando o usuário carregar uma imagem\n",
        "def on_upload_change(change):\n",
        "    if change[\"new\"]:\n",
        "        # Obtém o nome do arquivo e o conteúdo da imagem carregada\n",
        "        uploaded_filename = list(upload_button.value.keys())[0]\n",
        "        uploaded_content = upload_button.value[uploaded_filename][\"content\"]\n",
        "        # Cria um arquivo temporário para armazenar o conteúdo da imagem\n",
        "        image_path = Path(uploaded_filename)\n",
        "        with open(image_path, \"wb\") as f:\n",
        "            f.write(uploaded_content)\n",
        "        # Executa a análise da imagem\n",
        "        with output_text:\n",
        "            print(\"Analisando a imagem...\")\n",
        "            convo = model.start_chat(history=[\n",
        "                {\n",
        "                    \"role\": \"user\",\n",
        "                    \"parts\": [genai.upload_file(image_path)]\n",
        "                },\n",
        "            ])\n",
        "\n",
        "            # Exemplos de Few-Shot Prompting\n",
        "            few_shot_examples = \"\"\"\n",
        "## Exemplo 1\n",
        "**Prompt:** A imagem a ser analisada é um print de tela de uma publicação no Facebook. A imagem mostra um texto afirmando que o governo irá distribuir cestas básicas gratuitas para toda a população.\n",
        "**Resposta:** A imagem mostra um print de tela de uma publicação no Facebook, com a data de 10/10/2023, proveniente de um perfil chamado \"Notícias Bombásticas\". O texto afirma: \"Governo anuncia distribuição de cestas básicas gratuitas para toda a população! Cadastre-se já!\".  A probabilidade da notícia ser verdadeira é 10%. A informação não foi confirmada por nenhuma fonte oficial e circula em sites conhecidos por propagação de notícias falsas. Fontes: [Agência Lupa](https://www.lupa.com.br), [Aos Fatos](https://aosfatos.org/).\n",
        "\n",
        "## Exemplo 2\n",
        "**Prompt:** A imagem a ser analisada é uma foto de um protesto. A imagem mostra diversas pessoas segurando cartazes com frases contra a corrupção.\n",
        "**Resposta:** A imagem mostra uma fotografia de um protesto com grande concentração de pessoas. Os cartazes exibem frases como \"Basta de Corrupção\" e \"Fora Corruptos\". A probabilidade da notícia ser verdadeira é 90%. Diversos veículos de comunicação reportaram protestos contra a corrupção na data e local indicados na imagem. Fontes: [G1](https://g1.globo.com/), [Folha de S.Paulo](https://www.folha.uol.com.br).\n",
        "            \"\"\"\n",
        "\n",
        "            # Mensagem com Few-Shot Prompting\n",
        "            response = convo.send_message(f\"\"\"\n",
        "{few_shot_examples}\n",
        "\n",
        "## Nova Imagem:\n",
        "A imagem a ser analisada é um print de tela de uma publicação em rede social ou foto tirada de revista ou jornal. Descreva a imagem detalhadamente, incluindo o texto presente, a fonte de publicação, data, e outros elementos visuais relevantes. Pesquise a veracidade da notícia apresentada na imagem utilizando fontes confiáveis como Agência Lupa, Aos Fatos, Estadão Verifica, G1, Folha de S.Paulo, UOL, etc. Inclua também agências internacionais de notícias reconhecidas. Com base nas informações encontradas, determine a probabilidade da notícia ser verdadeira e apresente como uma porcentagem, justificando sua avaliação. Apresente as fontes utilizadas em formato de lista, incluindo o link para cada fonte consultada.\n",
        "            \"\"\")\n",
        "            display(Markdown(f\"---\\n**Resposta:** {response.text}\"))\n",
        "        # Remove o arquivo temporário da imagem\n",
        "        image_path.unlink()\n",
        "\n",
        "# Configura a função on_upload_change para ser chamada quando o valor do upload_button mudar\n",
        "upload_button.observe(on_upload_change, names=\"value\")\n",
        "\n",
        "# Exibe os widgets na tela\n",
        "display(upload_button)\n",
        "display(output_text)"
      ],
      "metadata": {
        "colab": {
          "base_uri": "https://localhost:8080/",
          "height": 460,
          "referenced_widgets": [
            "a37594d439444c1192c4bb7a821bae5f",
            "97bb0f6e6c0d4e42900307fa2a030368",
            "88d1bce77d714645a156e1ed28897ac4",
            "353c65fe95bb4181a1d12556cc05550f",
            "8332de4768b24e1aa95494d10507cf0b"
          ]
        },
        "id": "olYpMzoQFNfa",
        "outputId": "967e76df-22f8-4cad-8de3-71b5837adcc7"
      },
      "execution_count": 5,
      "outputs": [
        {
          "output_type": "display_data",
          "data": {
            "text/plain": [
              "FileUpload(value={}, accept='image/*', description='Enviar imagem/print para verificação', layout=Layout(width…"
            ],
            "application/vnd.jupyter.widget-view+json": {
              "version_major": 2,
              "version_minor": 0,
              "model_id": "a37594d439444c1192c4bb7a821bae5f"
            }
          },
          "metadata": {}
        },
        {
          "output_type": "display_data",
          "data": {
            "text/plain": [
              "Output()"
            ],
            "application/vnd.jupyter.widget-view+json": {
              "version_major": 2,
              "version_minor": 0,
              "model_id": "353c65fe95bb4181a1d12556cc05550f"
            }
          },
          "metadata": {}
        }
      ]
    }
  ]
}