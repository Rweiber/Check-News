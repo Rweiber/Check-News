{
  "nbformat": 4,
  "nbformat_minor": 0,
  "metadata": {
    "colab": {
      "provenance": [],
      "authorship_tag": "ABX9TyN/cGG+SP4qB5JPX/VMggWA",
      "include_colab_link": true
    },
    "kernelspec": {
      "name": "python3",
      "display_name": "Python 3"
    },
    "language_info": {
      "name": "python"
    },
    "widgets": {
      "application/vnd.jupyter.widget-state+json": {
        "467357baca3841098dc65b32623316a2": {
          "model_module": "@jupyter-widgets/controls",
          "model_name": "FileUploadModel",
          "model_module_version": "1.5.0",
          "state": {
            "_counter": 2,
            "_dom_classes": [],
            "_model_module": "@jupyter-widgets/controls",
            "_model_module_version": "1.5.0",
            "_model_name": "FileUploadModel",
            "_view_count": null,
            "_view_module": "@jupyter-widgets/controls",
            "_view_module_version": "1.5.0",
            "_view_name": "FileUploadView",
            "accept": "image/*",
            "button_style": "",
            "data": [
              null
            ],
            "description": "Enviar imagem/print para verificação",
            "description_tooltip": null,
            "disabled": false,
            "error": "",
            "icon": "upload",
            "layout": "IPY_MODEL_fff342311aa84bd1aa92aa7b637776d1",
            "metadata": [
              {
                "name": "Captura de tela 2024-05-10 215619.png",
                "type": "image/png",
                "size": 55297,
                "lastModified": 1715388979372
              }
            ],
            "multiple": false,
            "style": "IPY_MODEL_9a45a703274e483eb89fc39b2ecd6730"
          }
        },
        "fff342311aa84bd1aa92aa7b637776d1": {
          "model_module": "@jupyter-widgets/base",
          "model_name": "LayoutModel",
          "model_module_version": "1.2.0",
          "state": {
            "_model_module": "@jupyter-widgets/base",
            "_model_module_version": "1.2.0",
            "_model_name": "LayoutModel",
            "_view_count": null,
            "_view_module": "@jupyter-widgets/base",
            "_view_module_version": "1.2.0",
            "_view_name": "LayoutView",
            "align_content": null,
            "align_items": null,
            "align_self": null,
            "border": null,
            "bottom": null,
            "display": null,
            "flex": null,
            "flex_flow": null,
            "grid_area": null,
            "grid_auto_columns": null,
            "grid_auto_flow": null,
            "grid_auto_rows": null,
            "grid_column": null,
            "grid_gap": null,
            "grid_row": null,
            "grid_template_areas": null,
            "grid_template_columns": null,
            "grid_template_rows": null,
            "height": null,
            "justify_content": null,
            "justify_items": null,
            "left": null,
            "margin": null,
            "max_height": null,
            "max_width": null,
            "min_height": null,
            "min_width": null,
            "object_fit": null,
            "object_position": null,
            "order": null,
            "overflow": null,
            "overflow_x": null,
            "overflow_y": null,
            "padding": null,
            "right": null,
            "top": null,
            "visibility": null,
            "width": "70%"
          }
        },
        "9a45a703274e483eb89fc39b2ecd6730": {
          "model_module": "@jupyter-widgets/controls",
          "model_name": "ButtonStyleModel",
          "model_module_version": "1.5.0",
          "state": {
            "_model_module": "@jupyter-widgets/controls",
            "_model_module_version": "1.5.0",
            "_model_name": "ButtonStyleModel",
            "_view_count": null,
            "_view_module": "@jupyter-widgets/base",
            "_view_module_version": "1.2.0",
            "_view_name": "StyleView",
            "button_color": null,
            "font_weight": ""
          }
        },
        "9793a22da21b475a80fd24f526dfee38": {
          "model_module": "@jupyter-widgets/output",
          "model_name": "OutputModel",
          "model_module_version": "1.0.0",
          "state": {
            "_dom_classes": [],
            "_model_module": "@jupyter-widgets/output",
            "_model_module_version": "1.0.0",
            "_model_name": "OutputModel",
            "_view_count": null,
            "_view_module": "@jupyter-widgets/output",
            "_view_module_version": "1.0.0",
            "_view_name": "OutputView",
            "layout": "IPY_MODEL_dee75c801c4e4017a50a6982391d8075",
            "msg_id": "",
            "outputs": [
              {
                "output_type": "stream",
                "name": "stdout",
                "text": [
                  "Analisando a imagem...\n"
                ]
              },
              {
                "output_type": "display_data",
                "data": {
                  "text/plain": "<IPython.core.display.Markdown object>",
                  "text/markdown": "---\n**Resposta:** A imagem é um print de um Tweet de Sâmia Bomfim (@samiabomfim) postado no dia 6 de maio. O tweet menciona duas apreensões de drogas: 322 kg de maconha em um caminhão da família do senador Jorge Seif e 47 kg de haxixe na empresa dele. O tweet questiona a posição dos apoiadores de Bolsonaro em relação à PEC 45, que criminaliza o porte de qualquer quantidade de drogas.\n\n**Veracidade da Notícia:**\n\n**Apreensão de 322 kg de maconha:**\n\nEm julho de 2022, a Polícia Rodoviária Federal apreendeu 322 kg de maconha em um caminhão no Paraná. O motorista do caminhão, genro do senador Jorge Seif (PL-SC), foi preso em flagrante. **(Verdade)**\n\n* **Fonte:** G1 - [https://g1.globo.com/pr/parana/noticia/2022/07/21/prf-apreende-322-kg-de-maconha-em-caminhao-no-parana-motorista-e-genro-de-senador.ghtml](https://g1.globo.com/pr/parana/noticia/2022/07/21/prf-apreende-322-kg-de-maconha-em-caminhao-no-parana-motorista-e-genro-de-senador.ghtml) \n\n**Apreensão de 47 kg de haxixe na empresa de Jorge Seif:**\n\nNão há informações disponíveis em fontes confiáveis sobre a apreensão de 47 kg de haxixe na empresa do senador Jorge Seif.  **(Falso)**\n\n**Conclusão:**\n\nA primeira parte do tweet, sobre a apreensão de 322 kg de maconha, é verdadeira. No entanto, não há evidências que sustentem a segunda parte da alegação, sobre a apreensão de haxixe na empresa do senador. \n\n**Porcentagem de Veracidade:** 50% \n"
                },
                "metadata": {}
              },
              {
                "output_type": "stream",
                "name": "stdout",
                "text": [
                  "Analisando a imagem...\n"
                ]
              },
              {
                "output_type": "display_data",
                "data": {
                  "text/plain": "<IPython.core.display.Markdown object>",
                  "text/markdown": "---\n**Resposta:** A imagem mostra um tweet de Kim Kataguiri, deputado federal pelo partido DEM-SP, sobre o PL 2630/20, conhecido como \"PL das Fake News\". \n\nNo tweet, Kataguiri afirma que o projeto de lei precisa ser barrado imediatamente, pois trará censura e graves danos à liberdade de expressão. Ele também convida seus seguidores para uma \"tuitaço\" às 15h. \n\n## Análise da Afirmação:\n\nA afirmação de que o PL 2630/20 trará censura e danos à liberdade de expressão é uma opinião controversa, com defensores e críticos do projeto apresentando argumentos válidos. \n\n**Argumentos contra o PL 2630/20 (próximos à visão de Kim Kataguiri):**\n\n* **Censura:** Críticos argumentam que a lei pode ser utilizada para censurar opiniões divergentes e restringir a liberdade de expressão online, dando poder excessivo ao governo para definir o que é verdadeiro ou falso.\n* **Definição vaga de \"fake news\":** A definição de \"desinformação\" no projeto é considerada muito ampla e subjetiva, o que poderia levar à remoção de conteúdos legítimos e à perseguição política.\n* **Impacto negativo na liberdade de imprensa:** Há preocupações de que o PL possa prejudicar o trabalho da imprensa, que poderia ser responsabilizada por compartilhar informações posteriormente consideradas falsas.\n\n**Argumentos a favor do PL 2630/20:**\n\n* **Combate à desinformação:** Defensores argumentam que o projeto é necessário para combater a disseminação de notícias falsas, que podem ter impactos negativos na saúde pública, eleições e outros aspectos da sociedade.\n* **Transparência nas plataformas digitais:** O PL busca aumentar a transparência sobre o funcionamento dos algoritmos e a moderação de conteúdo nas redes sociais, o que poderia ajudar a combater a desinformação.\n* **Proteção da democracia:** Defensores argumentam que a lei é necessária para proteger a democracia da manipulação e da interferência estrangeira, especialmente em períodos eleitorais.\n\n## Conclusão:\n\nA afirmação de Kim Kataguiri de que o PL 2630/20 trará censura e danos à liberdade de expressão representa **uma das visões existentes sobre o projeto**. O PL é alvo de intenso debate, com argumentos válidos de ambos os lados. \n\nÉ importante ressaltar que a opinião de Kataguiri, assim como qualquer outra opinião sobre o projeto, não representa uma verdade absoluta, mas sim uma perspectiva dentro de um debate complexo e multifacetado.\n\n## Fontes:\n\n* **Agência Senado:** [https://www12.senado.leg.br/noticias/materias/2020/06/03/projeto-que-visa-combater-fake-news-e-aprovado-no-senado](https://www12.senado.leg.br/noticias/materias/2020/06/03/projeto-que-visa-combater-fake-news-e-aprovado-no-senado)\n* **Folha de S.Paulo:** [https://www1.folha.uol.com.br/poder/2022/04/pl-das-fake-news-avanca-na-camara-e-divide-especialistas-sobre-censura-e-eficacia.shtml](https://www1.folha.uol.com.br/poder/2022/04/pl-das-fake-news-avanca-na-camara-e-divide-especialistas-sobre-censura-e-eficacia.shtml)\n* **O Globo:** [https://oglobo.globo.com/brasil/pl-das-fake-news-o-que-o-projeto-de-lei-que-divide-especialistas-e-o-congresso-25546589](https://oglobo.globo.com/brasil/pl-das-fake-news-o-que-o-projeto-de-lei-que-divide-especialistas-e-o-congresso-25546589) \n"
                },
                "metadata": {}
              }
            ]
          }
        },
        "dee75c801c4e4017a50a6982391d8075": {
          "model_module": "@jupyter-widgets/base",
          "model_name": "LayoutModel",
          "model_module_version": "1.2.0",
          "state": {
            "_model_module": "@jupyter-widgets/base",
            "_model_module_version": "1.2.0",
            "_model_name": "LayoutModel",
            "_view_count": null,
            "_view_module": "@jupyter-widgets/base",
            "_view_module_version": "1.2.0",
            "_view_name": "LayoutView",
            "align_content": null,
            "align_items": null,
            "align_self": null,
            "border": null,
            "bottom": null,
            "display": null,
            "flex": null,
            "flex_flow": null,
            "grid_area": null,
            "grid_auto_columns": null,
            "grid_auto_flow": null,
            "grid_auto_rows": null,
            "grid_column": null,
            "grid_gap": null,
            "grid_row": null,
            "grid_template_areas": null,
            "grid_template_columns": null,
            "grid_template_rows": null,
            "height": null,
            "justify_content": null,
            "justify_items": null,
            "left": null,
            "margin": null,
            "max_height": null,
            "max_width": null,
            "min_height": null,
            "min_width": null,
            "object_fit": null,
            "object_position": null,
            "order": null,
            "overflow": null,
            "overflow_x": null,
            "overflow_y": null,
            "padding": null,
            "right": null,
            "top": null,
            "visibility": null,
            "width": null
          }
        }
      }
    }
  },
  "cells": [
    {
      "cell_type": "markdown",
      "metadata": {
        "id": "view-in-github",
        "colab_type": "text"
      },
      "source": [
        "<a href=\"https://colab.research.google.com/github/Rweiber/Check-News/blob/main/Check_News.ipynb\" target=\"_parent\"><img src=\"https://colab.research.google.com/assets/colab-badge.svg\" alt=\"Open In Colab\"/></a>"
      ]
    },
    {
      "cell_type": "code",
      "execution_count": 1,
      "metadata": {
        "colab": {
          "base_uri": "https://localhost:8080/"
        },
        "id": "GY8h190IEwux",
        "outputId": "67f92072-a3a2-4124-e786-4e0f1e555bf6"
      },
      "outputs": [
        {
          "output_type": "stream",
          "name": "stdout",
          "text": [
            "\u001b[?25l     \u001b[90m━━━━━━━━━━━━━━━━━━━━━━━━━━━━━━━━━━━━━━━━\u001b[0m \u001b[32m0.0/1.6 MB\u001b[0m \u001b[31m?\u001b[0m eta \u001b[36m-:--:--\u001b[0m\r\u001b[2K     \u001b[91m━\u001b[0m\u001b[90m╺\u001b[0m\u001b[90m━━━━━━━━━━━━━━━━━━━━━━━━━━━━━━━━━━━━━━\u001b[0m \u001b[32m0.0/1.6 MB\u001b[0m \u001b[31m1.2 MB/s\u001b[0m eta \u001b[36m0:00:02\u001b[0m\r\u001b[2K     \u001b[91m━━━━━━━━━\u001b[0m\u001b[91m╸\u001b[0m\u001b[90m━━━━━━━━━━━━━━━━━━━━━━━━━━━━━━\u001b[0m \u001b[32m0.4/1.6 MB\u001b[0m \u001b[31m5.6 MB/s\u001b[0m eta \u001b[36m0:00:01\u001b[0m\r\u001b[2K     \u001b[91m━━━━━━━━━━━━━━━━━━━━\u001b[0m\u001b[91m╸\u001b[0m\u001b[90m━━━━━━━━━━━━━━━━━━━\u001b[0m \u001b[32m0.8/1.6 MB\u001b[0m \u001b[31m7.9 MB/s\u001b[0m eta \u001b[36m0:00:01\u001b[0m\r\u001b[2K     \u001b[91m━━━━━━━━━━━━━━━━━━━━━━━━━━━━━━━━\u001b[0m\u001b[91m╸\u001b[0m\u001b[90m━━━━━━━\u001b[0m \u001b[32m1.3/1.6 MB\u001b[0m \u001b[31m9.2 MB/s\u001b[0m eta \u001b[36m0:00:01\u001b[0m\r\u001b[2K     \u001b[91m━━━━━━━━━━━━━━━━━━━━━━━━━━━━━━━━━━━━━━━\u001b[0m\u001b[91m╸\u001b[0m \u001b[32m1.6/1.6 MB\u001b[0m \u001b[31m9.9 MB/s\u001b[0m eta \u001b[36m0:00:01\u001b[0m\r\u001b[2K     \u001b[90m━━━━━━━━━━━━━━━━━━━━━━━━━━━━━━━━━━━━━━━━\u001b[0m \u001b[32m1.6/1.6 MB\u001b[0m \u001b[31m8.5 MB/s\u001b[0m eta \u001b[36m0:00:00\u001b[0m\n",
            "\u001b[?25h"
          ]
        }
      ],
      "source": [
        "!pip install -U -q google-generativeai\n",
        "!pip install -q ipywidgets"
      ]
    },
    {
      "cell_type": "code",
      "source": [],
      "metadata": {
        "id": "C-pjbwPQFGjR"
      },
      "execution_count": 2,
      "outputs": []
    },
    {
      "cell_type": "code",
      "source": [
        "# Importa as bibliotecas necessárias\n",
        "from pathlib import Path\n",
        "import hashlib\n",
        "import google.generativeai as genai\n",
        "import ipywidgets as widgets\n",
        "from IPython.display import display, clear_output, Markdown\n",
        "from google.colab import userdata\n",
        "\n",
        "api_key = userdata.get(\"SECRET_KEY\")\n",
        "# Configura a API Key do Google Generative AI\n",
        "genai.configure(api_key=api_key)\n",
        "\n",
        "# Define as configurações do modelo Gemini Pro\n",
        "generation_config = {\n",
        "    \"temperature\": 1, # Controla a criatividade do modelo (valores mais altos = mais criativo)\n",
        "    \"top_p\": 0.95, # Limita a probabilidade das próximas palavras\n",
        "    \"top_k\": 0, # Não limita o número de palavras consideradas\n",
        "    \"max_output_tokens\": 8192, # Define o limite máximo de tokens na resposta\n",
        "}\n",
        "\n",
        "# Define as configurações de segurança para o modelo\n",
        "safety_settings = [\n",
        "    {\n",
        "        \"category\": \"HARM_CATEGORY_HARASSMENT\", # Assédio\n",
        "        \"threshold\": \"BLOCK_MEDIUM_AND_ABOVE\", # Bloqueia respostas com nível médio ou alto de assédio\n",
        "    },\n",
        "    {\n",
        "        \"category\": \"HARM_CATEGORY_HATE_SPEECH\", # Discurso de ódio\n",
        "        \"threshold\": \"BLOCK_MEDIUM_AND_ABOVE\", # Bloqueia respostas com nível médio ou alto de discurso de ódio\n",
        "    },\n",
        "    {\n",
        "        \"category\": \"HARM_CATEGORY_SEXUALLY_EXPLICIT\", # Conteúdo sexualmente explícito\n",
        "        \"threshold\": \"BLOCK_MEDIUM_AND_ABOVE\", # Bloqueia respostas com nível médio ou alto de conteúdo sexualmente explícito\n",
        "    },\n",
        "    {\n",
        "        \"category\": \"HARM_CATEGORY_DANGEROUS_CONTENT\", # Conteúdo perigoso\n",
        "        \"threshold\": \"BLOCK_MEDIUM_AND_ABOVE\", # Bloqueia respostas com nível médio ou alto de conteúdo perigoso\n",
        "    },\n",
        "]\n",
        "\n",
        "# Define a instrução inicial para o modelo\n",
        "system_instruction = \"Haja como um investigador de noticias, que pesquisa nas fontes de noticias mais qualificadas do brasil e retorno uma porcentagem do quão verdadeira é a noticia, tambem preciso que descreva a imagem, por completa no inicio da resposta, no final sempre coloque as fontes de onde pesquisou e o o link da fonte\"\n",
        "\n",
        "# Cria uma instância do modelo Gemini Pro\n",
        "model = genai.GenerativeModel(\n",
        "    model_name=\"gemini-1.5-pro-latest\",\n",
        "    generation_config=generation_config,\n",
        "    system_instruction=system_instruction,\n",
        "    safety_settings=safety_settings,\n",
        ")\n",
        "\n",
        "# Cria os widgets\n",
        "upload_button = widgets.FileUpload(accept=\"image/*\", multiple=False, description=\"Enviar imagem/print para verificação\", layout=widgets.Layout(width='70%'))\n",
        "output_text = widgets.Output()\n",
        "\n",
        "# Define a função que será chamada quando o usuário carregar uma imagem\n",
        "def on_upload_change(change):\n",
        "    if change[\"new\"]:\n",
        "        # Obtém o nome do arquivo e o conteúdo da imagem carregada\n",
        "        uploaded_filename = list(upload_button.value.keys())[0]\n",
        "        uploaded_content = upload_button.value[uploaded_filename][\"content\"]\n",
        "\n",
        "        # Cria um arquivo temporário para armazenar o conteúdo da imagem\n",
        "        image_path = Path(uploaded_filename)\n",
        "        with open(image_path, \"wb\") as f:\n",
        "            f.write(uploaded_content)\n",
        "\n",
        "        # Executa a análise da imagem\n",
        "        with output_text:\n",
        "            print(\"Analisando a imagem...\")\n",
        "\n",
        "            # Inicia uma conversa com o modelo Gemini Pro\n",
        "            convo = model.start_chat(history=[\n",
        "                {\n",
        "                    \"role\": \"user\", # Define o papel do usuário\n",
        "                    \"parts\": [genai.upload_file(image_path)] # Carrega a imagem para o modelo\n",
        "                },\n",
        "            ])\n",
        "\n",
        "            # Envia a mensagem para o modelo, solicitando a análise da imagem\n",
        "            response = convo.send_message(\n",
        "                \"que pesquisa nas fontes de noticias mais qualificadas do brasil e retorno uma porcentagem do quão verdadeira é a noticia\"\n",
        "            )\n",
        "\n",
        "            # Divide a resposta em blocos de 25 MB\n",
        "            chunks = [response.text[i:i+25000000] for i in range(0, len(response.text), 25000000)]\n",
        "\n",
        "            # Salva cada bloco em um arquivo separado\n",
        "            for i, chunk in enumerate(chunks):\n",
        "              with open(f\"resposta_parte{i+1}.txt\", \"w\") as f:\n",
        "                f.write(chunk)\n",
        "\n",
        "            # Exibe a resposta do modelo no widget de saída em Markdown\n",
        "            display(Markdown(f\"---\\n**Resposta:** {response.text}\"))\n",
        "\n",
        "        # Remove o arquivo temporário da imagem\n",
        "        image_path.unlink()\n",
        "\n",
        "# Configura a função on_upload_change para ser chamada quando o valor do upload_button mudar\n",
        "upload_button.observe(on_upload_change, names=\"value\")\n",
        "\n",
        "# Exibe os widgets na tela\n",
        "display(upload_button)\n",
        "display(output_text)"
      ],
      "metadata": {
        "colab": {
          "base_uri": "https://localhost:8080/",
          "height": 1000,
          "referenced_widgets": [
            "467357baca3841098dc65b32623316a2",
            "fff342311aa84bd1aa92aa7b637776d1",
            "9a45a703274e483eb89fc39b2ecd6730",
            "9793a22da21b475a80fd24f526dfee38",
            "dee75c801c4e4017a50a6982391d8075"
          ]
        },
        "id": "olYpMzoQFNfa",
        "outputId": "32f4c48f-8623-4e0b-9831-9d0b2dee4b22"
      },
      "execution_count": 11,
      "outputs": [
        {
          "output_type": "display_data",
          "data": {
            "text/plain": [
              "FileUpload(value={}, accept='image/*', description='Enviar imagem/print para verificação', layout=Layout(width…"
            ],
            "application/vnd.jupyter.widget-view+json": {
              "version_major": 2,
              "version_minor": 0,
              "model_id": "467357baca3841098dc65b32623316a2"
            }
          },
          "metadata": {}
        },
        {
          "output_type": "display_data",
          "data": {
            "text/plain": [
              "Output()"
            ],
            "application/vnd.jupyter.widget-view+json": {
              "version_major": 2,
              "version_minor": 0,
              "model_id": "9793a22da21b475a80fd24f526dfee38"
            }
          },
          "metadata": {}
        }
      ]
    }
  ]
}