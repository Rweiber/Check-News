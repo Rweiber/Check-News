{
  "nbformat": 4,
  "nbformat_minor": 0,
  "metadata": {
    "colab": {
      "provenance": [],
      "authorship_tag": "ABX9TyOg6OCgIq3qijp2jA/J7qmJ",
      "include_colab_link": true
    },
    "kernelspec": {
      "name": "python3",
      "display_name": "Python 3"
    },
    "language_info": {
      "name": "python"
    },
    "widgets": {
      "application/vnd.jupyter.widget-state+json": {
        "85c82d68a3b747c6be2830a951d8cf59": {
          "model_module": "@jupyter-widgets/controls",
          "model_name": "FileUploadModel",
          "model_module_version": "1.5.0",
          "state": {
            "_counter": 2,
            "_dom_classes": [],
            "_model_module": "@jupyter-widgets/controls",
            "_model_module_version": "1.5.0",
            "_model_name": "FileUploadModel",
            "_view_count": null,
            "_view_module": "@jupyter-widgets/controls",
            "_view_module_version": "1.5.0",
            "_view_name": "FileUploadView",
            "accept": "image/*",
            "button_style": "",
            "data": [
              null
            ],
            "description": "Enviar imagem/print para verificação",
            "description_tooltip": null,
            "disabled": false,
            "error": "",
            "icon": "upload",
            "layout": "IPY_MODEL_eec4b3799ec145d39583beb3d5c3cccf",
            "metadata": [
              {
                "name": "Captura de tela 2024-05-10 215619.png",
                "type": "image/png",
                "size": 55297,
                "lastModified": 1715388979372
              }
            ],
            "multiple": false,
            "style": "IPY_MODEL_5cbdd3071b534498be87666e0131e927"
          }
        },
        "eec4b3799ec145d39583beb3d5c3cccf": {
          "model_module": "@jupyter-widgets/base",
          "model_name": "LayoutModel",
          "model_module_version": "1.2.0",
          "state": {
            "_model_module": "@jupyter-widgets/base",
            "_model_module_version": "1.2.0",
            "_model_name": "LayoutModel",
            "_view_count": null,
            "_view_module": "@jupyter-widgets/base",
            "_view_module_version": "1.2.0",
            "_view_name": "LayoutView",
            "align_content": null,
            "align_items": null,
            "align_self": null,
            "border": null,
            "bottom": null,
            "display": null,
            "flex": null,
            "flex_flow": null,
            "grid_area": null,
            "grid_auto_columns": null,
            "grid_auto_flow": null,
            "grid_auto_rows": null,
            "grid_column": null,
            "grid_gap": null,
            "grid_row": null,
            "grid_template_areas": null,
            "grid_template_columns": null,
            "grid_template_rows": null,
            "height": null,
            "justify_content": null,
            "justify_items": null,
            "left": null,
            "margin": null,
            "max_height": null,
            "max_width": null,
            "min_height": null,
            "min_width": null,
            "object_fit": null,
            "object_position": null,
            "order": null,
            "overflow": null,
            "overflow_x": null,
            "overflow_y": null,
            "padding": null,
            "right": null,
            "top": null,
            "visibility": null,
            "width": "70%"
          }
        },
        "5cbdd3071b534498be87666e0131e927": {
          "model_module": "@jupyter-widgets/controls",
          "model_name": "ButtonStyleModel",
          "model_module_version": "1.5.0",
          "state": {
            "_model_module": "@jupyter-widgets/controls",
            "_model_module_version": "1.5.0",
            "_model_name": "ButtonStyleModel",
            "_view_count": null,
            "_view_module": "@jupyter-widgets/base",
            "_view_module_version": "1.2.0",
            "_view_name": "StyleView",
            "button_color": null,
            "font_weight": ""
          }
        },
        "3bd2b2e07625427db205de34da8637d4": {
          "model_module": "@jupyter-widgets/output",
          "model_name": "OutputModel",
          "model_module_version": "1.0.0",
          "state": {
            "_dom_classes": [],
            "_model_module": "@jupyter-widgets/output",
            "_model_module_version": "1.0.0",
            "_model_name": "OutputModel",
            "_view_count": null,
            "_view_module": "@jupyter-widgets/output",
            "_view_module_version": "1.0.0",
            "_view_name": "OutputView",
            "layout": "IPY_MODEL_6768e899acfe4017b9a626d2c8425544",
            "msg_id": "",
            "outputs": [
              {
                "output_type": "stream",
                "name": "stdout",
                "text": [
                  "Analisando a imagem...\n"
                ]
              },
              {
                "output_type": "display_data",
                "data": {
                  "text/plain": "<IPython.core.display.Markdown object>",
                  "text/markdown": "---\n**Resposta:** A imagem apresenta um tweet da deputada federal Sâmia Bomfim, datado de 6 de maio. No tweet, ela afirma que no ano anterior a PRF apreendeu 322kg de maconha em um caminhão da família de Jorge Seif, senador e ex-ministro do governo Bolsonaro. Ela continua dizendo que recentemente foram encontrados 47kg de haxixe na empresa dele. Por fim, ela questiona os apoiadores de Bolsonaro que apoiam a PEC 45, que criminaliza o porte de qualquer quantidade de drogas, se eles não têm nada a dizer sobre o assunto, acompanhado de um emoji pensativo. \n\n**Veracidade da notícia:**\n\nPara verificar a veracidade da notícia, precisamos analisar as duas afirmações separadamente:\n\n**1. Apreensão de 322kg de maconha em caminhão da família de Jorge Seif:**\n\n* **Em julho de 2022**, a PRF apreendeu 322 kg de maconha em um caminhão em Santa Catarina. O motorista, que não teve a identidade revelada, afirmou que **o veículo pertencia ao filho do então Secretário da Pesca, Jorge Seif Júnior**. [Fonte: G1](https://g1.globo.com/sc/santa-catarina/noticia/2022/07/15/prf-apreende-322-kg-de-maconha-em-caminhao-que-seria-do-filho-do-secretario-nacional-da-pesca-em-sc.ghtml)\n* **Jorge Seif Júnior confirmou** que o caminhão era de sua propriedade, mas **negou qualquer envolvimento com o tráfico de drogas**. Ele afirmou que **havia vendido o veículo a pouco tempo** e que não sabia do paradeiro do comprador. [Fonte: NSC Total](https://ndmais.com.br/seguranca/prf/caminhao-com-322-kg-de-maconha-apreendido-em-sc-e-de-filho-do-secretario-nacional-da-pesca/) \n* O caso segue em investigação e, até o momento, **não há informações sobre a conclusão do inquérito ou a responsabilização de Jorge Seif Júnior** pelo crime.\n\n**2. Apreensão de 47kg de haxixe na empresa de Jorge Seif:**\n\n* **Não foram encontradas notícias em fontes confiáveis** que confirmem a apreensão de 47kg de haxixe em uma empresa de Jorge Seif. \n\n**Conclusão:**\n\n* A primeira parte do tweet, sobre a apreensão de maconha em um caminhão pertencente ao filho de Jorge Seif, **é parcialmente verdadeira**. A apreensão de fato aconteceu, mas **não há provas de que Jorge Seif Júnior tenha envolvimento com o crime**. \n* A segunda parte do tweet, sobre a apreensão de haxixe na empresa de Jorge Seif, **não pode ser confirmada por fontes confiáveis**.\n\n**Porcentagem de veracidade:** 50%\n\n**Fontes:**\n\n* G1: https://g1.globo.com/sc/santa-catarina/noticia/2022/07/15/prf-apreende-322-kg-de-maconha-em-caminhao-que-seria-do-filho-do-secretario-nacional-da-pesca-em-sc.ghtml\n* NSC Total: https://ndmais.com.br/seguranca/prf/caminhao-com-322-kg-de-maconha-apreendido-em-sc-e-de-filho-do-secretario-nacional-da-pesca/ \n"
                },
                "metadata": {}
              },
              {
                "output_type": "stream",
                "name": "stdout",
                "text": [
                  "Analisando a imagem...\n"
                ]
              },
              {
                "output_type": "display_data",
                "data": {
                  "text/plain": "<IPython.core.display.Markdown object>",
                  "text/markdown": "---\n**Resposta:** A imagem mostra um tweet de Kim Kataguiri, deputado federal pelo partido União Brasil de São Paulo. Ele afirma que é fundamental combater as fake news, mas que o PL 2630/20, da forma como está escrito, precisa ser barrado imediatamente, pois trará censura e graves danos à liberdade de expressão. \n\n**Veracidade da Notícia:**\n\nO debate sobre o PL 2630/20, conhecido como \"PL das Fake News\", é complexo e envolve diferentes perspectivas. A afirmação de que o projeto trará censura e danos à liberdade de expressão é uma opinião, compartilhada por alguns, mas contestada por outros. \n\n**Análise:**\n\n* **Argumentos a favor da afirmação:** Críticos argumentam que a definição de \"fake news\" no projeto é ampla e vaga, o que poderia levar à remoção de conteúdos legítimos e ao cerceamento da liberdade de expressão. A exigência de identificação de usuários em plataformas digitais também é vista como uma ameaça à privacidade e ao anonimato.\n* **Argumentos contra a afirmação:** Defensores do projeto argumentam que ele é necessário para combater a disseminação de desinformação e proteger a democracia. Eles argumentam que o projeto não visa censurar opiniões, mas sim coibir a disseminação deliberada de informações falsas, com potencial de causar danos reais.\n\n**Fontes:**\n\n* Agência Câmara de Notícias: [https://www.camara.leg.br/](https://www.camara.leg.br/)\n* Senado Federal: [https://www12.senado.leg.br/](https://www12.senado.leg.br/)\n* Folha de S. Paulo: [https://www1.folha.uol.com.br/](https://www1.folha.uol.com.br/)\n* O Estado de S. Paulo: [https://www.estadao.com.br/](https://www.estadao.com.br/)\n\n**Porcentagem de veracidade:** É difícil determinar uma porcentagem precisa de veracidade, pois a afirmação de Kim Kataguiri se trata de uma opinião dentro de um debate complexo. \n\n**Nota:** É importante consultar diferentes fontes e analisar criticamente as informações disponíveis para formar sua própria opinião sobre o tema. \n"
                },
                "metadata": {}
              }
            ]
          }
        },
        "6768e899acfe4017b9a626d2c8425544": {
          "model_module": "@jupyter-widgets/base",
          "model_name": "LayoutModel",
          "model_module_version": "1.2.0",
          "state": {
            "_model_module": "@jupyter-widgets/base",
            "_model_module_version": "1.2.0",
            "_model_name": "LayoutModel",
            "_view_count": null,
            "_view_module": "@jupyter-widgets/base",
            "_view_module_version": "1.2.0",
            "_view_name": "LayoutView",
            "align_content": null,
            "align_items": null,
            "align_self": null,
            "border": null,
            "bottom": null,
            "display": null,
            "flex": null,
            "flex_flow": null,
            "grid_area": null,
            "grid_auto_columns": null,
            "grid_auto_flow": null,
            "grid_auto_rows": null,
            "grid_column": null,
            "grid_gap": null,
            "grid_row": null,
            "grid_template_areas": null,
            "grid_template_columns": null,
            "grid_template_rows": null,
            "height": null,
            "justify_content": null,
            "justify_items": null,
            "left": null,
            "margin": null,
            "max_height": null,
            "max_width": null,
            "min_height": null,
            "min_width": null,
            "object_fit": null,
            "object_position": null,
            "order": null,
            "overflow": null,
            "overflow_x": null,
            "overflow_y": null,
            "padding": null,
            "right": null,
            "top": null,
            "visibility": null,
            "width": null
          }
        }
      }
    }
  },
  "cells": [
    {
      "cell_type": "markdown",
      "metadata": {
        "id": "view-in-github",
        "colab_type": "text"
      },
      "source": [
        "<a href=\"https://colab.research.google.com/github/Rweiber/Check-News/blob/main/Check_News.ipynb\" target=\"_parent\"><img src=\"https://colab.research.google.com/assets/colab-badge.svg\" alt=\"Open In Colab\"/></a>"
      ]
    },
    {
      "cell_type": "code",
      "execution_count": 1,
      "metadata": {
        "colab": {
          "base_uri": "https://localhost:8080/"
        },
        "id": "GY8h190IEwux",
        "outputId": "67f92072-a3a2-4124-e786-4e0f1e555bf6"
      },
      "outputs": [
        {
          "output_type": "stream",
          "name": "stdout",
          "text": [
            "\u001b[?25l     \u001b[90m━━━━━━━━━━━━━━━━━━━━━━━━━━━━━━━━━━━━━━━━\u001b[0m \u001b[32m0.0/1.6 MB\u001b[0m \u001b[31m?\u001b[0m eta \u001b[36m-:--:--\u001b[0m\r\u001b[2K     \u001b[91m━\u001b[0m\u001b[90m╺\u001b[0m\u001b[90m━━━━━━━━━━━━━━━━━━━━━━━━━━━━━━━━━━━━━━\u001b[0m \u001b[32m0.0/1.6 MB\u001b[0m \u001b[31m1.2 MB/s\u001b[0m eta \u001b[36m0:00:02\u001b[0m\r\u001b[2K     \u001b[91m━━━━━━━━━\u001b[0m\u001b[91m╸\u001b[0m\u001b[90m━━━━━━━━━━━━━━━━━━━━━━━━━━━━━━\u001b[0m \u001b[32m0.4/1.6 MB\u001b[0m \u001b[31m5.6 MB/s\u001b[0m eta \u001b[36m0:00:01\u001b[0m\r\u001b[2K     \u001b[91m━━━━━━━━━━━━━━━━━━━━\u001b[0m\u001b[91m╸\u001b[0m\u001b[90m━━━━━━━━━━━━━━━━━━━\u001b[0m \u001b[32m0.8/1.6 MB\u001b[0m \u001b[31m7.9 MB/s\u001b[0m eta \u001b[36m0:00:01\u001b[0m\r\u001b[2K     \u001b[91m━━━━━━━━━━━━━━━━━━━━━━━━━━━━━━━━\u001b[0m\u001b[91m╸\u001b[0m\u001b[90m━━━━━━━\u001b[0m \u001b[32m1.3/1.6 MB\u001b[0m \u001b[31m9.2 MB/s\u001b[0m eta \u001b[36m0:00:01\u001b[0m\r\u001b[2K     \u001b[91m━━━━━━━━━━━━━━━━━━━━━━━━━━━━━━━━━━━━━━━\u001b[0m\u001b[91m╸\u001b[0m \u001b[32m1.6/1.6 MB\u001b[0m \u001b[31m9.9 MB/s\u001b[0m eta \u001b[36m0:00:01\u001b[0m\r\u001b[2K     \u001b[90m━━━━━━━━━━━━━━━━━━━━━━━━━━━━━━━━━━━━━━━━\u001b[0m \u001b[32m1.6/1.6 MB\u001b[0m \u001b[31m8.5 MB/s\u001b[0m eta \u001b[36m0:00:00\u001b[0m\n",
            "\u001b[?25h"
          ]
        }
      ],
      "source": [
        "!pip install -U -q google-generativeai\n",
        "!pip install -q ipywidgets"
      ]
    },
    {
      "cell_type": "code",
      "source": [],
      "metadata": {
        "id": "C-pjbwPQFGjR"
      },
      "execution_count": 2,
      "outputs": []
    },
    {
      "cell_type": "code",
      "source": [
        "# Importa as bibliotecas necessárias\n",
        "from pathlib import Path\n",
        "import hashlib\n",
        "import google.generativeai as genai\n",
        "import ipywidgets as widgets\n",
        "from IPython.display import display, clear_output, Markdown\n",
        "from google.colab import userdata\n",
        "\n",
        "api_key = userdata.get(\"SECRET_KEY\")\n",
        "# Configura a API Key do Google Generative AI\n",
        "genai.configure(api_key=api_key)\n",
        "\n",
        "# Define as configurações do modelo Gemini Pro\n",
        "generation_config = {\n",
        "    \"temperature\": 1, # Controla a criatividade do modelo (valores mais altos = mais criativo)\n",
        "    \"top_p\": 0.95, # Limita a probabilidade das próximas palavras\n",
        "    \"top_k\": 0, # Não limita o número de palavras consideradas\n",
        "    \"max_output_tokens\": 8192, # Define o limite máximo de tokens na resposta\n",
        "}\n",
        "\n",
        "# Define as configurações de segurança para o modelo\n",
        "safety_settings = [\n",
        "    {\n",
        "        \"category\": \"HARM_CATEGORY_HARASSMENT\", # Assédio\n",
        "        \"threshold\": \"BLOCK_MEDIUM_AND_ABOVE\", # Bloqueia respostas com nível médio ou alto de assédio\n",
        "    },\n",
        "    {\n",
        "        \"category\": \"HARM_CATEGORY_HATE_SPEECH\", # Discurso de ódio\n",
        "        \"threshold\": \"BLOCK_MEDIUM_AND_ABOVE\", # Bloqueia respostas com nível médio ou alto de discurso de ódio\n",
        "    },\n",
        "    {\n",
        "        \"category\": \"HARM_CATEGORY_SEXUALLY_EXPLICIT\", # Conteúdo sexualmente explícito\n",
        "        \"threshold\": \"BLOCK_MEDIUM_AND_ABOVE\", # Bloqueia respostas com nível médio ou alto de conteúdo sexualmente explícito\n",
        "    },\n",
        "    {\n",
        "        \"category\": \"HARM_CATEGORY_DANGEROUS_CONTENT\", # Conteúdo perigoso\n",
        "        \"threshold\": \"BLOCK_MEDIUM_AND_ABOVE\", # Bloqueia respostas com nível médio ou alto de conteúdo perigoso\n",
        "    },\n",
        "]\n",
        "\n",
        "# Define a instrução inicial para o modelo\n",
        "system_instruction = \"Haja como um investigador de noticias, que pesquisa nas fontes de noticias mais qualificadas do brasil e retorno uma porcentagem do quão verdadeira é a noticia, tambem preciso que descreva a imagem, por completa no inicio da resposta, no final sempre coloque as fontes de onde pesquisou e o o link da fonte\"\n",
        "\n",
        "# Cria uma instância do modelo Gemini Pro\n",
        "model = genai.GenerativeModel(\n",
        "    model_name=\"gemini-1.5-pro-latest\",\n",
        "    generation_config=generation_config,\n",
        "    system_instruction=system_instruction,\n",
        "    safety_settings=safety_settings,\n",
        ")\n",
        "\n",
        "# Cria os widgets\n",
        "upload_button = widgets.FileUpload(accept=\"image/*\", multiple=False, description=\"Enviar imagem/print para verificação\", layout=widgets.Layout(width='70%'))\n",
        "output_text = widgets.Output()\n",
        "\n",
        "# Define a função que será chamada quando o usuário carregar uma imagem\n",
        "def on_upload_change(change):\n",
        "    if change[\"new\"]:\n",
        "        # Obtém o nome do arquivo e o conteúdo da imagem carregada\n",
        "        uploaded_filename = list(upload_button.value.keys())[0]\n",
        "        uploaded_content = upload_button.value[uploaded_filename][\"content\"]\n",
        "\n",
        "        # Cria um arquivo temporário para armazenar o conteúdo da imagem\n",
        "        image_path = Path(uploaded_filename)\n",
        "        with open(image_path, \"wb\") as f:\n",
        "            f.write(uploaded_content)\n",
        "\n",
        "        # Executa a análise da imagem\n",
        "        with output_text:\n",
        "            print(\"Analisando a imagem...\")\n",
        "\n",
        "            # Inicia uma conversa com o modelo Gemini Pro\n",
        "            convo = model.start_chat(history=[\n",
        "                {\n",
        "                    \"role\": \"user\", # Define o papel do usuário\n",
        "                    \"parts\": [genai.upload_file(image_path)] # Carrega a imagem para o modelo\n",
        "                },\n",
        "            ])\n",
        "\n",
        "            # Envia a mensagem para o modelo, solicitando a análise da imagem\n",
        "            response = convo.send_message(\n",
        "                \"que pesquisa nas fontes de noticias mais qualificadas do brasil e retorno uma porcentagem do quão verdadeira é a noticia\"\n",
        "            )\n",
        "\n",
        "            # Exibe a resposta do modelo no widget de saída em Markdown\n",
        "            display(Markdown(f\"---\\n**Resposta:** {response.text}\"))\n",
        "\n",
        "        # Remove o arquivo temporário da imagem\n",
        "        image_path.unlink()\n",
        "\n",
        "# Configura a função on_upload_change para ser chamada quando o valor do upload_button mudar\n",
        "upload_button.observe(on_upload_change, names=\"value\")\n",
        "\n",
        "# Exibe os widgets na tela\n",
        "display(upload_button)\n",
        "display(output_text)"
      ],
      "metadata": {
        "colab": {
          "base_uri": "https://localhost:8080/",
          "height": 1000,
          "referenced_widgets": [
            "85c82d68a3b747c6be2830a951d8cf59",
            "eec4b3799ec145d39583beb3d5c3cccf",
            "5cbdd3071b534498be87666e0131e927",
            "3bd2b2e07625427db205de34da8637d4",
            "6768e899acfe4017b9a626d2c8425544"
          ]
        },
        "id": "olYpMzoQFNfa",
        "outputId": "afcfb1a8-4fc6-4114-c0fd-a835dae8eeee"
      },
      "execution_count": 10,
      "outputs": [
        {
          "output_type": "display_data",
          "data": {
            "text/plain": [
              "FileUpload(value={}, accept='image/*', description='Enviar imagem/print para verificação', layout=Layout(width…"
            ],
            "application/vnd.jupyter.widget-view+json": {
              "version_major": 2,
              "version_minor": 0,
              "model_id": "85c82d68a3b747c6be2830a951d8cf59"
            }
          },
          "metadata": {}
        },
        {
          "output_type": "display_data",
          "data": {
            "text/plain": [
              "Output()"
            ],
            "application/vnd.jupyter.widget-view+json": {
              "version_major": 2,
              "version_minor": 0,
              "model_id": "3bd2b2e07625427db205de34da8637d4"
            }
          },
          "metadata": {}
        }
      ]
    },
    {
      "cell_type": "code",
      "source": [],
      "metadata": {
        "id": "fJ0noQ0GTsAx"
      },
      "execution_count": null,
      "outputs": []
    }
  ]
}